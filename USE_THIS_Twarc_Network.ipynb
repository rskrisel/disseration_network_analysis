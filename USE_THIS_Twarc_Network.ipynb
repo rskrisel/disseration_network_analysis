{
 "cells": [
  {
   "cell_type": "code",
   "execution_count": 4,
   "metadata": {},
   "outputs": [],
   "source": [
    "!twarc2 search --archive \"(#TamponTax) has:geo lang:en place_country:US\" --start-time \"2015-01-01\" --end-time \"2021-08-31\" >tampon_tax_network.json\n"
   ]
  },
  {
   "cell_type": "code",
   "execution_count": 5,
   "metadata": {},
   "outputs": [],
   "source": [
    "!twarc2 network tampon_tax_network.json tampon_tax_network.html --min-subgraph-size 3\n"
   ]
  },
  {
   "cell_type": "code",
   "execution_count": 6,
   "metadata": {},
   "outputs": [],
   "source": [
    "!twarc2 network tampon_tax_network.json --format csv tampon_tax_network.csv\n"
   ]
  },
  {
   "cell_type": "code",
   "execution_count": 7,
   "metadata": {},
   "outputs": [],
   "source": [
    "import pandas as pd\n",
    "pd.options.display.max_rows = 100\n",
    "network_df = pd.read_csv('tampon_tax_network.csv', delimiter=\",\")"
   ]
  },
  {
   "cell_type": "code",
   "execution_count": 8,
   "metadata": {},
   "outputs": [
    {
     "data": {
      "text/html": [
       "<div>\n",
       "<style scoped>\n",
       "    .dataframe tbody tr th:only-of-type {\n",
       "        vertical-align: middle;\n",
       "    }\n",
       "\n",
       "    .dataframe tbody tr th {\n",
       "        vertical-align: top;\n",
       "    }\n",
       "\n",
       "    .dataframe thead th {\n",
       "        text-align: right;\n",
       "    }\n",
       "</style>\n",
       "<table border=\"1\" class=\"dataframe\">\n",
       "  <thead>\n",
       "    <tr style=\"text-align: right;\">\n",
       "      <th></th>\n",
       "      <th>KatieWellsMD</th>\n",
       "      <th>sevendaysvt</th>\n",
       "      <th>{'tweet_type': 'quote'</th>\n",
       "      <th>'weight': 1}</th>\n",
       "    </tr>\n",
       "  </thead>\n",
       "  <tbody>\n",
       "    <tr>\n",
       "      <th>0</th>\n",
       "      <td>SenatorAgard</td>\n",
       "      <td>AsGoesWisconsin</td>\n",
       "      <td>{'tweet_type': 'quote'</td>\n",
       "      <td>'weight': 1}</td>\n",
       "    </tr>\n",
       "    <tr>\n",
       "      <th>1</th>\n",
       "      <td>J_Stephens_CPA</td>\n",
       "      <td>andreacpa0</td>\n",
       "      <td>{'tweet_type': 'reply'</td>\n",
       "      <td>'weight': 1}</td>\n",
       "    </tr>\n",
       "    <tr>\n",
       "      <th>2</th>\n",
       "      <td>jweisswolf</td>\n",
       "      <td>19thnews</td>\n",
       "      <td>{'tweet_type': 'quote'</td>\n",
       "      <td>'weight': 1}</td>\n",
       "    </tr>\n",
       "    <tr>\n",
       "      <th>3</th>\n",
       "      <td>jweisswolf</td>\n",
       "      <td>amydiehl</td>\n",
       "      <td>{'tweet_type': 'quote'</td>\n",
       "      <td>'weight': 1}</td>\n",
       "    </tr>\n",
       "    <tr>\n",
       "      <th>4</th>\n",
       "      <td>jweisswolf</td>\n",
       "      <td>NPR</td>\n",
       "      <td>{'tweet_type': 'reply'</td>\n",
       "      <td>'weight': 3}</td>\n",
       "    </tr>\n",
       "    <tr>\n",
       "      <th>...</th>\n",
       "      <td>...</td>\n",
       "      <td>...</td>\n",
       "      <td>...</td>\n",
       "      <td>...</td>\n",
       "    </tr>\n",
       "    <tr>\n",
       "      <th>171</th>\n",
       "      <td>ampcideas</td>\n",
       "      <td>mashable</td>\n",
       "      <td>{'tweet_type': 'quote'</td>\n",
       "      <td>'weight': 1}</td>\n",
       "    </tr>\n",
       "    <tr>\n",
       "      <th>172</th>\n",
       "      <td>badillo_rb</td>\n",
       "      <td>FortuneMagazine</td>\n",
       "      <td>{'tweet_type': 'quote'</td>\n",
       "      <td>'weight': 1}</td>\n",
       "    </tr>\n",
       "    <tr>\n",
       "      <th>173</th>\n",
       "      <td>DianaNeilan</td>\n",
       "      <td>BuzzFeed</td>\n",
       "      <td>{'tweet_type': 'quote'</td>\n",
       "      <td>'weight': 1}</td>\n",
       "    </tr>\n",
       "    <tr>\n",
       "      <th>174</th>\n",
       "      <td>NashTshema</td>\n",
       "      <td>BuzzFeedUK</td>\n",
       "      <td>{'tweet_type': 'quote'</td>\n",
       "      <td>'weight': 1}</td>\n",
       "    </tr>\n",
       "    <tr>\n",
       "      <th>175</th>\n",
       "      <td>bellablueyes1</td>\n",
       "      <td>RHOGossip</td>\n",
       "      <td>{'tweet_type': 'reply'</td>\n",
       "      <td>'weight': 1}</td>\n",
       "    </tr>\n",
       "  </tbody>\n",
       "</table>\n",
       "<p>176 rows × 4 columns</p>\n",
       "</div>"
      ],
      "text/plain": [
       "       KatieWellsMD      sevendaysvt  {'tweet_type': 'quote'   'weight': 1}\n",
       "0      SenatorAgard  AsGoesWisconsin  {'tweet_type': 'quote'   'weight': 1}\n",
       "1    J_Stephens_CPA       andreacpa0  {'tweet_type': 'reply'   'weight': 1}\n",
       "2        jweisswolf         19thnews  {'tweet_type': 'quote'   'weight': 1}\n",
       "3        jweisswolf         amydiehl  {'tweet_type': 'quote'   'weight': 1}\n",
       "4        jweisswolf              NPR  {'tweet_type': 'reply'   'weight': 3}\n",
       "..              ...              ...                     ...            ...\n",
       "171       ampcideas         mashable  {'tweet_type': 'quote'   'weight': 1}\n",
       "172      badillo_rb  FortuneMagazine  {'tweet_type': 'quote'   'weight': 1}\n",
       "173     DianaNeilan         BuzzFeed  {'tweet_type': 'quote'   'weight': 1}\n",
       "174      NashTshema       BuzzFeedUK  {'tweet_type': 'quote'   'weight': 1}\n",
       "175   bellablueyes1        RHOGossip  {'tweet_type': 'reply'   'weight': 1}\n",
       "\n",
       "[176 rows x 4 columns]"
      ]
     },
     "execution_count": 8,
     "metadata": {},
     "output_type": "execute_result"
    }
   ],
   "source": [
    "network_df"
   ]
  },
  {
   "cell_type": "code",
   "execution_count": 9,
   "metadata": {},
   "outputs": [],
   "source": [
    "!twarc2 network tampon_tax_network.json --format gexf tampon_tax_network_min.gexf --min-subgraph-size 3\n"
   ]
  },
  {
   "cell_type": "code",
   "execution_count": 11,
   "metadata": {},
   "outputs": [],
   "source": [
    "!twarc2 network tampon_tax_network.json --format json tampon_tax_network.json --min-subgraph-size 3\n"
   ]
  },
  {
   "cell_type": "code",
   "execution_count": 14,
   "metadata": {},
   "outputs": [],
   "source": [
    "!twarc2 network tampon_tax_network.json --nodes tweets --format gexf tampon_tax_network_tweets.gexf \n",
    "\n"
   ]
  },
  {
   "cell_type": "code",
   "execution_count": null,
   "metadata": {},
   "outputs": [],
   "source": []
  }
 ],
 "metadata": {
  "kernelspec": {
   "display_name": "Python 3",
   "language": "python",
   "name": "python3"
  },
  "language_info": {
   "codemirror_mode": {
    "name": "ipython",
    "version": 3
   },
   "file_extension": ".py",
   "mimetype": "text/x-python",
   "name": "python",
   "nbconvert_exporter": "python",
   "pygments_lexer": "ipython3",
   "version": "3.8.5"
  }
 },
 "nbformat": 4,
 "nbformat_minor": 4
}
